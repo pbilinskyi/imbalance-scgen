{
 "cells": [
  {
   "cell_type": "code",
   "execution_count": 1,
   "metadata": {},
   "outputs": [
    {
     "name": "stderr",
     "output_type": "stream",
     "text": [
      "Global seed set to 0\n",
      "c:\\Users\\PavloBilinskyi\\OneDrive - Ladoburn Europe Ltd\\Documents\\Documents (onedrive)\\Education\\master\\Spring\\Курсова\\venv\\lib\\site-packages\\pytorch_lightning\\utilities\\warnings.py:54: LightningDeprecationWarning: pytorch_lightning.utilities.warnings.rank_zero_deprecation has been deprecated in v1.6 and will be removed in v1.8. Use the equivalent function from the pytorch_lightning.utilities.rank_zero module instead.\n",
      "  \"pytorch_lightning.utilities.warnings.rank_zero_deprecation has been deprecated in v1.6\"\n",
      "c:\\Users\\PavloBilinskyi\\OneDrive - Ladoburn Europe Ltd\\Documents\\Documents (onedrive)\\Education\\master\\Spring\\Курсова\\venv\\lib\\site-packages\\pytorch_lightning\\utilities\\warnings.py:58: LightningDeprecationWarning: The `pytorch_lightning.loggers.base.rank_zero_experiment` is deprecated in v1.7 and will be removed in v1.9. Please use `pytorch_lightning.loggers.logger.rank_zero_experiment` instead.\n",
      "  return new_rank_zero_deprecation(*args, **kwargs)\n"
     ]
    }
   ],
   "source": [
    "import os\n",
    "\n",
    "import scanpy as sc\n",
    "\n",
    "from scgen_code.scgen._scgen import SCGEN"
   ]
  },
  {
   "cell_type": "code",
   "execution_count": 2,
   "metadata": {},
   "outputs": [
    {
     "name": "stderr",
     "output_type": "stream",
     "text": [
      "GPU available: False, used: False\n",
      "TPU available: False, using: 0 TPU cores\n",
      "IPU available: False, using: 0 IPUs\n",
      "HPU available: False, using: 0 HPUs\n"
     ]
    },
    {
     "name": "stdout",
     "output_type": "stream",
     "text": [
      "Leave-one-out experiment, leaving out cell type NK, step 1/7\n",
      "Epoch 2/100:   1%|          | 1/100 [01:07<1:51:40, 67.69s/it, loss=96.7, v_num=1]"
     ]
    }
   ],
   "source": [
    "import os\n",
    "\n",
    "import scanpy as sc\n",
    "\n",
    "from scgen_code.scgen._scgen import SCGEN\n",
    "\n",
    "# Read the dataset\n",
    "dataset = sc.read(os.path.join('data','train_kang.h5ad'),\n",
    "                backup_url='https://drive.google.com/uc?id=1r87vhoLLq6PXAYdmyyd89zG90eJOFYLk')\n",
    "\n",
    "\n",
    "cell_type = 'CD4T'\n",
    "cell_types = ['NK', 'Dendritic', 'CD4T', 'B', 'FCGR3A+Mono', 'CD14+Mono', 'CD8T']\n",
    "\n",
    "for i, cell_type in enumerate(cell_types):\n",
    "    print(f'Leave-one-out experiment, leaving out cell type {cell_type}, step {i+1}/{len(cell_types)}')\n",
    "    \n",
    "    # prepare train and evaluation datasets\n",
    "    mask_is_cell_type = dataset.obs[\"cell_type\"] == cell_type\n",
    "    train_adata = dataset[~(mask_is_cell_type & (dataset.obs[\"condition\"] == \"stimulated\"))]\n",
    "    train_adata = train_adata.copy()\n",
    "    eval_adata_control = dataset[mask_is_cell_type & (dataset.obs[\"condition\"] == \"control\")]\n",
    "    eval_adata_stimulated = dataset[mask_is_cell_type & (dataset.obs[\"condition\"] == \"stimulated\")]\n",
    "\n",
    "    # setup data\n",
    "    SCGEN.setup_anndata(train_adata, batch_key=\"condition\", labels_key=\"cell_type\")\n",
    "\n",
    "    # create and save initial model\n",
    "    model = SCGEN(train_adata)\n",
    "\n",
    "    # train model\n",
    "    model.train(\n",
    "        max_epochs= 100,\n",
    "        batch_size=32,\n",
    "        early_stopping=False,\n",
    "        early_stopping_patience=25\n",
    "    )\n",
    "\n",
    "    # save trained model\n",
    "    save_dir = f\"saved_models/leave_one_out/leave_out_{cell_type}\"\n",
    "    model.save(save_dir, overwrite=True)\n"
   ]
  },
  {
   "cell_type": "code",
   "execution_count": null,
   "metadata": {},
   "outputs": [],
   "source": []
  }
 ],
 "metadata": {
  "kernelspec": {
   "display_name": "venv",
   "language": "python",
   "name": "python3"
  },
  "language_info": {
   "codemirror_mode": {
    "name": "ipython",
    "version": 3
   },
   "file_extension": ".py",
   "mimetype": "text/x-python",
   "name": "python",
   "nbconvert_exporter": "python",
   "pygments_lexer": "ipython3",
   "version": "3.7.9"
  },
  "orig_nbformat": 4
 },
 "nbformat": 4,
 "nbformat_minor": 2
}
